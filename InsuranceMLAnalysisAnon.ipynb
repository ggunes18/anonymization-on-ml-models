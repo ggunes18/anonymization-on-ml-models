{
 "cells": [
  {
   "cell_type": "code",
   "execution_count": 10,
   "id": "3812dce5",
   "metadata": {},
   "outputs": [],
   "source": [
    "import pandas as pd\n",
    "import matplotlib.pyplot as plt\n",
    "from sklearn import preprocessing\n",
    "from sklearn.model_selection import train_test_split, GridSearchCV\n",
    "from sklearn.model_selection import cross_val_score\n",
    "from sklearn.linear_model import LogisticRegression\n",
    "from sklearn.feature_selection import SelectKBest\n",
    "from sklearn.feature_selection import chi2\n",
    "from sklearn.metrics import confusion_matrix, r2_score\n",
    "from sklearn.ensemble import RandomForestClassifier, GradientBoostingClassifier\n",
    "from sklearn.naive_bayes import GaussianNB\n",
    "from sklearn.neighbors import KNeighborsClassifier\n",
    "from sklearn import metrics\n",
    "from sklearn.neural_network import MLPClassifier\n",
    "from xgboost import XGBClassifier\n",
    "import scikitplot as skplt\n",
    "from typing import List\n",
    "from itertools import combinations\n",
    "import numpy as np\n",
    "from sklearn.discriminant_analysis import LinearDiscriminantAnalysis"
   ]
  },
  {
   "cell_type": "code",
   "execution_count": 11,
   "id": "1b2ae153",
   "metadata": {},
   "outputs": [
    {
     "data": {
      "text/html": [
       "<div>\n",
       "<style scoped>\n",
       "    .dataframe tbody tr th:only-of-type {\n",
       "        vertical-align: middle;\n",
       "    }\n",
       "\n",
       "    .dataframe tbody tr th {\n",
       "        vertical-align: top;\n",
       "    }\n",
       "\n",
       "    .dataframe thead th {\n",
       "        text-align: right;\n",
       "    }\n",
       "</style>\n",
       "<table border=\"1\" class=\"dataframe\">\n",
       "  <thead>\n",
       "    <tr style=\"text-align: right;\">\n",
       "      <th></th>\n",
       "      <th>age</th>\n",
       "      <th>sex</th>\n",
       "      <th>bmi</th>\n",
       "      <th>children</th>\n",
       "      <th>smoker</th>\n",
       "      <th>region</th>\n",
       "      <th>charges</th>\n",
       "    </tr>\n",
       "  </thead>\n",
       "  <tbody>\n",
       "    <tr>\n",
       "      <th>0</th>\n",
       "      <td>Any</td>\n",
       "      <td>Any</td>\n",
       "      <td>Any</td>\n",
       "      <td>Any</td>\n",
       "      <td>Any</td>\n",
       "      <td>Any</td>\n",
       "      <td>&gt;=15000</td>\n",
       "    </tr>\n",
       "    <tr>\n",
       "      <th>1</th>\n",
       "      <td>Any</td>\n",
       "      <td>Any</td>\n",
       "      <td>Any</td>\n",
       "      <td>Any</td>\n",
       "      <td>Any</td>\n",
       "      <td>Any</td>\n",
       "      <td>&lt;15000</td>\n",
       "    </tr>\n",
       "    <tr>\n",
       "      <th>2</th>\n",
       "      <td>[0,50)</td>\n",
       "      <td>Any</td>\n",
       "      <td>Any</td>\n",
       "      <td>present</td>\n",
       "      <td>Any</td>\n",
       "      <td>Any</td>\n",
       "      <td>&lt;15000</td>\n",
       "    </tr>\n",
       "    <tr>\n",
       "      <th>3</th>\n",
       "      <td>Any</td>\n",
       "      <td>Any</td>\n",
       "      <td>Any</td>\n",
       "      <td>Any</td>\n",
       "      <td>no</td>\n",
       "      <td>Any</td>\n",
       "      <td>&gt;=15000</td>\n",
       "    </tr>\n",
       "    <tr>\n",
       "      <th>4</th>\n",
       "      <td>Any</td>\n",
       "      <td>Any</td>\n",
       "      <td>Any</td>\n",
       "      <td>Any</td>\n",
       "      <td>Any</td>\n",
       "      <td>Any</td>\n",
       "      <td>&lt;15000</td>\n",
       "    </tr>\n",
       "    <tr>\n",
       "      <th>...</th>\n",
       "      <td>...</td>\n",
       "      <td>...</td>\n",
       "      <td>...</td>\n",
       "      <td>...</td>\n",
       "      <td>...</td>\n",
       "      <td>...</td>\n",
       "      <td>...</td>\n",
       "    </tr>\n",
       "    <tr>\n",
       "      <th>1333</th>\n",
       "      <td>Any</td>\n",
       "      <td>Any</td>\n",
       "      <td>Any</td>\n",
       "      <td>Any</td>\n",
       "      <td>Any</td>\n",
       "      <td>Any</td>\n",
       "      <td>&lt;15000</td>\n",
       "    </tr>\n",
       "    <tr>\n",
       "      <th>1334</th>\n",
       "      <td>[0,50)</td>\n",
       "      <td>Any</td>\n",
       "      <td>Any</td>\n",
       "      <td>Any</td>\n",
       "      <td>Any</td>\n",
       "      <td>Any</td>\n",
       "      <td>&lt;15000</td>\n",
       "    </tr>\n",
       "    <tr>\n",
       "      <th>1335</th>\n",
       "      <td>Any</td>\n",
       "      <td>Any</td>\n",
       "      <td>[30,40)</td>\n",
       "      <td>Any</td>\n",
       "      <td>no</td>\n",
       "      <td>Any</td>\n",
       "      <td>&lt;15000</td>\n",
       "    </tr>\n",
       "    <tr>\n",
       "      <th>1336</th>\n",
       "      <td>Any</td>\n",
       "      <td>Any</td>\n",
       "      <td>Any</td>\n",
       "      <td>Any</td>\n",
       "      <td>Any</td>\n",
       "      <td>Any</td>\n",
       "      <td>&lt;15000</td>\n",
       "    </tr>\n",
       "    <tr>\n",
       "      <th>1337</th>\n",
       "      <td>Any</td>\n",
       "      <td>Any</td>\n",
       "      <td>Any</td>\n",
       "      <td>Any</td>\n",
       "      <td>Any</td>\n",
       "      <td>Any</td>\n",
       "      <td>&gt;=15000</td>\n",
       "    </tr>\n",
       "  </tbody>\n",
       "</table>\n",
       "<p>1338 rows × 7 columns</p>\n",
       "</div>"
      ],
      "text/plain": [
       "         age  sex      bmi children smoker region  charges\n",
       "0        Any  Any      Any      Any    Any    Any  >=15000\n",
       "1        Any  Any      Any      Any    Any    Any   <15000\n",
       "2     [0,50)  Any      Any  present    Any    Any   <15000\n",
       "3        Any  Any      Any      Any     no    Any  >=15000\n",
       "4        Any  Any      Any      Any    Any    Any   <15000\n",
       "...      ...  ...      ...      ...    ...    ...      ...\n",
       "1333     Any  Any      Any      Any    Any    Any   <15000\n",
       "1334  [0,50)  Any      Any      Any    Any    Any   <15000\n",
       "1335     Any  Any  [30,40)      Any     no    Any   <15000\n",
       "1336     Any  Any      Any      Any    Any    Any   <15000\n",
       "1337     Any  Any      Any      Any    Any    Any  >=15000\n",
       "\n",
       "[1338 rows x 7 columns]"
      ]
     },
     "execution_count": 11,
     "metadata": {},
     "output_type": "execute_result"
    }
   ],
   "source": [
    "df = pd.read_csv(\"result.csv\", sep=\",\")\n",
    "df\n",
    "df.charges.value_counts\n",
    "df"
   ]
  },
  {
   "cell_type": "code",
   "execution_count": 7,
   "id": "6cff578b",
   "metadata": {},
   "outputs": [
    {
     "data": {
      "text/plain": [
       "'def changeLabels(bmi):\\n    return round(bmi)\\ndf[\"bmi\"] = df[\"bmi\"].apply(changeLabels)\\ndf.to_csv(\"insurance_labeled.csv\",index=False)'"
      ]
     },
     "execution_count": 7,
     "metadata": {},
     "output_type": "execute_result"
    }
   ],
   "source": [
    "\"\"\"def changeLabels(charge):\n",
    "    if charge >= 15000:\n",
    "        return \">=15000\"\n",
    "    return \"<15000\"\n",
    "df.charges = df.charges.apply(changeLabels)\n",
    "df.to_csv(\"deneme2-anonymized3.csv\",index=False)\"\"\"\n",
    "\"\"\"def changeLabels(bmi):\n",
    "    return round(bmi)\n",
    "df[\"bmi\"] = df[\"bmi\"].apply(changeLabels)\n",
    "df.to_csv(\"insurance_labeled.csv\",index=False)\"\"\""
   ]
  },
  {
   "cell_type": "code",
   "execution_count": 236,
   "id": "4c49f357",
   "metadata": {},
   "outputs": [],
   "source": [
    "label_encoder = preprocessing.LabelEncoder()\n",
    "df[\"sex\"] = label_encoder.fit_transform(df[\"sex\"])\n",
    "df[\"smoker\"] = label_encoder.fit_transform(df[\"smoker\"])\n",
    "df[\"region\"] = label_encoder.fit_transform(df[\"region\"])\n",
    "df[\"age\"] = label_encoder.fit_transform(df[\"age\"])\n",
    "df[\"bmi\"] = label_encoder.fit_transform(df[\"bmi\"])\n",
    "df[\"children\"] = label_encoder.fit_transform(df[\"children\"])\n",
    "\n",
    "\n",
    "\n"
   ]
  },
  {
   "cell_type": "code",
   "execution_count": 237,
   "id": "0dc7a324",
   "metadata": {},
   "outputs": [],
   "source": [
    "feature_columns = [\"age\",\"sex\",\"bmi\",\"children\",\"smoker\",\"region\"]"
   ]
  },
  {
   "cell_type": "code",
   "execution_count": 274,
   "id": "f47270af",
   "metadata": {},
   "outputs": [],
   "source": [
    "x = df[feature_columns].values\n",
    "y = df.charges.values\n",
    "X_train, X_test, y_train, y_test = train_test_split(x, y, test_size=0.4, random_state=42)\n",
    "model = RandomForestClassifier(100)"
   ]
  },
  {
   "cell_type": "code",
   "execution_count": 275,
   "id": "1cc1f5b6",
   "metadata": {},
   "outputs": [],
   "source": [
    "model.fit(X_train, y_train)\n",
    "y_pred = model.predict(X_test)"
   ]
  },
  {
   "cell_type": "code",
   "execution_count": 276,
   "id": "36ba70ad",
   "metadata": {},
   "outputs": [
    {
     "name": "stdout",
     "output_type": "stream",
     "text": [
      "Confusion Matrix: \n",
      "[[394   1]\n",
      " [140   1]]\n"
     ]
    }
   ],
   "source": [
    "cm = confusion_matrix(y_test, y_pred)\n",
    "print(\"Confusion Matrix: \")\n",
    "print(cm)"
   ]
  },
  {
   "cell_type": "code",
   "execution_count": 277,
   "id": "4233a2ea",
   "metadata": {},
   "outputs": [
    {
     "name": "stdout",
     "output_type": "stream",
     "text": [
      "Classification Report: \n",
      "              precision    recall  f1-score   support\n",
      "\n",
      "      <15000       0.74      1.00      0.85       395\n",
      "     >=15000       0.50      0.01      0.01       141\n",
      "\n",
      "    accuracy                           0.74       536\n",
      "   macro avg       0.62      0.50      0.43       536\n",
      "weighted avg       0.68      0.74      0.63       536\n",
      "\n"
     ]
    }
   ],
   "source": [
    "cr = metrics.classification_report(y_test, y_pred)\n",
    "print(\"Classification Report: \")\n",
    "print(cr)"
   ]
  },
  {
   "cell_type": "code",
   "execution_count": 278,
   "id": "64640618",
   "metadata": {},
   "outputs": [
    {
     "data": {
      "image/png": "[encoded data removed]",
      "text/plain": [
       "<Figure size 432x288 with 1 Axes>"
      ]
     },
     "metadata": {
      "needs_background": "light"
     },
     "output_type": "display_data"
    }
   ],
   "source": [
    "predicted_probas = model.predict_proba(X_test)\n",
    "skplt.metrics.plot_cumulative_gain(y_test, predicted_probas)\n",
    "plt.show()"
   ]
  }
 ],
 "metadata": {
  "kernelspec": {
   "display_name": "Python 3 (ipykernel)",
   "language": "python",
   "name": "python3"
  },
  "language_info": {
   "codemirror_mode": {
    "name": "ipython",
    "version": 3
   },
   "file_extension": ".py",
   "mimetype": "text/x-python",
   "name": "python",
   "nbconvert_exporter": "python",
   "pygments_lexer": "ipython3",
   "version": "3.9.5"
  }
 },
 "nbformat": 4,
 "nbformat_minor": 5
}
